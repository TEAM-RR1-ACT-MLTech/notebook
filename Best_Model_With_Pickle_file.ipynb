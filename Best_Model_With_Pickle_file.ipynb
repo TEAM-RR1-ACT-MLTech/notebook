{
 "cells": [
  {
   "cell_type": "markdown",
   "id": "90f0d774",
   "metadata": {},
   "source": [
    "# Movie Recommender System Project Team RR1: MLTECH\n",
    "\n",
    "## Author: Sandile Mdluli\n",
    "\n",
    "Welcome to the Movie Recommender System Project! In this notebook, we'll be exploring the fascinating world of movie recommendation algorithms and building A movie recommender system from scratch for Netmax.\n",
    "\n",
    "The goal of this project is to leverage the power of data science and machine learning to create a personalized movie recommendation engine that suggests movies tailored to individual preferences. Our model will be maily based on User based Collaborative Filtering\n",
    "\n",
    " Collaborative filtering is one of the fundamental techniques used in recommender systems. We'll implement User-Based Collaborative Filtering, to create movie recommendations based on user similarities and item correlations.\n",
    " \n",
    "Throughout this notebook, we'll embark on journey, covering the following key steps:\n",
    "\n",
    "Data Loading and Preprocessing: We'll start by loading various datasets containing movie information, user interactions, and metadata. We'll preprocess the data, ensuring it's in a format suitable for training our recommendation algorithms.\n",
    "\n",
    "Exploratory Data Analysis: Before diving into the recommendation algorithms, we'll explore the datasets to gain insights into the characteristics of movies and user preferences. This exploration will guide us in making informed decisions during the modeling process.\n",
    "\n",
    "Then finally , my favourite part, apply our most trusted and very well know user based collaborative filtering, the SVD which is based on the idea of matrix factorization!\n"
   ]
  },
  {
   "cell_type": "markdown",
   "id": "2b286ab4",
   "metadata": {},
   "source": [
    "### Import Packages"
   ]
  },
  {
   "cell_type": "code",
   "execution_count": 3,
   "id": "55fedf5e",
   "metadata": {
    "execution": {
     "iopub.execute_input": "2023-07-16T23:32:45.641426Z",
     "iopub.status.busy": "2023-07-16T23:32:45.640439Z",
     "iopub.status.idle": "2023-07-16T23:32:46.844140Z",
     "shell.execute_reply": "2023-07-16T23:32:46.843152Z",
     "shell.execute_reply.started": "2023-07-16T23:32:45.641378Z"
    }
   },
   "outputs": [
    {
     "name": "stderr",
     "output_type": "stream",
     "text": [
      "/opt/conda/lib/python3.10/site-packages/scipy/__init__.py:146: UserWarning: A NumPy version >=1.16.5 and <1.23.0 is required for this version of SciPy (detected version 1.23.5\n",
      "  warnings.warn(f\"A NumPy version >={np_minversion} and <{np_maxversion}\"\n"
     ]
    }
   ],
   "source": [
    "# Packages for data processing\n",
    "import numpy as np\n",
    "import pandas as pd\n",
    "import datetime\n",
    "import random\n",
    "from sklearn import preprocessing\n",
    "from sklearn.datasets import make_blobs\n",
    "from sklearn.preprocessing import StandardScaler\n",
    "from sklearn.feature_extraction.text import TfidfVectorizer\n",
    "from sklearn.metrics.pairwise import cosine_similarity\n",
    "from sklearn.cluster import KMeans\n",
    "import re\n",
    "from scipy.sparse import csr_matrix\n",
    "import scipy as sp\n",
    "\n",
    "from sklearn.metrics import mean_squared_error\n",
    "from math import sqrt\n",
    "# Packages for visualization\n",
    "import matplotlib.pyplot as plt\n",
    "import seaborn as sns\n",
    "%matplotlib inline\n",
    "sns.set(font_scale=1)\n",
    "sns.set_style(\"white\")\n",
    "pd.set_option('display.max_columns', 37)\n",
    "import warnings\n",
    "warnings.filterwarnings('ignore')\n",
    "from IPython.display import display_html \n",
    "from IPython.core.display import HTML\n",
    "from collections import defaultdict\n",
    "import datetime\n",
    "import re\n",
    "#import squarify\n",
    "import os\n",
    "from sklearn.model_selection import train_test_split\n",
    "\n",
    "# Packages for model evaluation\n",
    "from sklearn.metrics import mean_squared_error\n",
    "from sklearn.metrics import mean_absolute_error\n",
    "from time import time\n",
    "\n",
    "# Package to suppress warnings\n",
    "import warnings\n",
    "warnings.filterwarnings(\"ignore\")\n",
    "\n",
    "# Packages for saving models\n",
    "import pickle\n",
    "\n",
    "#from wordcloud import WordCloud, STOPWORDS, ImageColorGenerator\n",
    "\n",
    "# Install packages here\n",
    "# Packages for data processing\n",
    "import numpy as np\n",
    "import pandas as pd\n",
    "import datetime\n",
    "from sklearn import preprocessing\n",
    "from sklearn.datasets import make_blobs\n",
    "from sklearn.preprocessing import StandardScaler\n",
    "from sklearn.feature_extraction.text import TfidfVectorizer\n",
    "from sklearn.metrics.pairwise import cosine_similarity\n",
    "import re\n",
    "from scipy.sparse import csr_matrix\n",
    "import scipy as sp\n",
    "\n",
    "from surprise import SVD\n",
    "from surprise import Dataset\n",
    "from surprise import Reader\n",
    "from surprise.model_selection import cross_validate\n",
    "\n",
    "\n",
    "\n"
   ]
  },
  {
   "cell_type": "markdown",
   "id": "14c99fc3",
   "metadata": {},
   "source": [
    "### Movie Recommender System Data Loading\n",
    "In this notebook, we are building a movie recommender system. To do so, we start by loading several datasets that will be used throughout the project. Each dataset contains essential information about movies and their respective features. Here is a brief overview of the datasets we've loaded:\n",
    "\n",
    "Sample Submission: This dataset provides a template for submitting our final movie recommendations. It outlines the required format for the submission process.\n",
    "\n",
    "Movies: The movies.csv dataset contains detailed information about various movies. It includes movie titles, release years, and movie IDs that will help us identify and work with specific movies.\n",
    "\n",
    "IMDb Data: The imdb_data.csv dataset provides additional data sourced from IMDb. It may include ratings, reviews, and other relevant information that can enhance our movie recommender system.\n",
    "\n",
    "Genome Scores: The genome_scores.csv dataset contains scores assigned to different movie-genome tag combinations. These scores represent the relevance of each tag to a particular movie.\n",
    "\n",
    "Genome Tags: The genome_tags.csv dataset lists the various genome tags used to describe movies. These tags play a crucial role in identifying similarities and patterns among movies.\n",
    "\n",
    "Train and Test Sets: The train.csv and test.csv datasets are used for training and testing our movie recommender model. They consist of user-movie interactions and will be instrumental in building a predictive system.\n",
    "\n",
    "Tags: The tags.csv dataset contains user-generated tags for movies. These tags can provide additional insights into user preferences and movie characteristics.\n",
    "\n",
    "Links: The links.csv dataset provides links between movie IDs and external movie databases like IMDb and TMDb.\n",
    "\n",
    "By loading and combining these datasets, we are setting the foundation for creating a robust movie recommender system that can deliver personalized movie suggestions based on user preferences and movie attributes.\n",
    "\n",
    "Let's proceed with the data exploration and analysis to build an effective movie recommender system!\n"
   ]
  },
  {
   "cell_type": "code",
   "execution_count": 4,
   "id": "3c5e252f",
   "metadata": {
    "execution": {
     "iopub.execute_input": "2023-07-16T23:32:58.344608Z",
     "iopub.status.busy": "2023-07-16T23:32:58.344266Z",
     "iopub.status.idle": "2023-07-16T23:33:17.956927Z",
     "shell.execute_reply": "2023-07-16T23:33:17.955462Z",
     "shell.execute_reply.started": "2023-07-16T23:32:58.344583Z"
    }
   },
   "outputs": [],
   "source": [
    "sample_submission = pd.read_csv('/kaggle/input/edsa-movie-recommender/sample_submission.csv')\n",
    "movies = pd.read_csv('/kaggle/input/edsa-movie-recommender/movies.csv')\n",
    "imdb_data = pd.read_csv('/kaggle/input/edsa-movie-recommender/imdb_data.csv')\n",
    "genome_scores = pd.read_csv('/kaggle/input/edsa-movie-recommender/genome_scores.csv')\n",
    "genome_tags = pd.read_csv('/kaggle/input/edsa-movie-recommender/genome_tags.csv')\n",
    "train = pd.read_csv('/kaggle/input/edsa-movie-recommender/train.csv')\n",
    "test = pd.read_csv('/kaggle/input/edsa-movie-recommender/test.csv')\n",
    "tags = pd.read_csv('/kaggle/input/edsa-movie-recommender/tags.csv')\n",
    "links = pd.read_csv('/kaggle/input/edsa-movie-recommender/links.csv')"
   ]
  },
  {
   "cell_type": "markdown",
   "id": "8c688048",
   "metadata": {},
   "source": [
    "### Data Processing "
   ]
  },
  {
   "cell_type": "markdown",
   "id": "11cd16bb",
   "metadata": {},
   "source": [
    "### Movie Data Preprocessing\n",
    "We are working with a dataset of movie metadata. We have a DataFrame named movies_metadata_df that contains various columns such as title_cast, plot_keywords, and genres. To make the data more manageable and easily accessible for analysis, we are performing some data preprocessing steps:\n",
    "\n",
    " We start by merging the train dataset (which represents user-movie interactions) with the movies dataset based on the common movieId column. This merge ensures that each user's interactions are associated with the corresponding movie's attributes, such as title, release year, and genre.\n",
    "\n",
    "Merge IMDb Data with Train-Movies DataFrame: Next, we perform an additional merge of the movies_metadata_df (resulting from the previous merge) with the imdb_data dataset. This step further enriches our data with IMDb-specific information, including ratings and other metadata associated with each movie.\n",
    "\n",
    "Title Cast: We split the title_cast column into a list, which allows us to have a structured representation of the movie's cast. This will be helpful for further analysis, such as understanding the role of specific actors in different movies.\n",
    "\n",
    "Plot Keywords: The plot_keywords column is also split into a list. This will enable us to explore the main themes and elements associated with each movie's plot. We can later use this information to identify patterns and correlations between keywords and the movie's success or audience reception.\n",
    "\n",
    "Genres: We split the genres column into a list to have a clearer understanding of the movie's main genre and sub-genres. This will assist us in categorizing and comparing movies based on their genres.\n",
    "\n",
    "By performing these preprocessing steps, we aim to enhance our ability to analyze the movie data effectively. Let's take a look at the first few rows of the DataFrame after applying these changes.\n"
   ]
  },
  {
   "cell_type": "code",
   "execution_count": 5,
   "id": "1699be65",
   "metadata": {
    "execution": {
     "iopub.execute_input": "2023-07-16T23:34:09.864471Z",
     "iopub.status.busy": "2023-07-16T23:34:09.864113Z",
     "iopub.status.idle": "2023-07-16T23:34:11.569427Z",
     "shell.execute_reply": "2023-07-16T23:34:11.568171Z",
     "shell.execute_reply.started": "2023-07-16T23:34:09.864447Z"
    }
   },
   "outputs": [],
   "source": [
    "\n",
    "# Perform a further merge with imdb_data on movieId column\n",
    "movies_metadata_df = pd.merge(train_movies_df, imdb_data, how='left', on='movieId')# Merge train (users) and movies datasets on movieId column\n",
    "train_movies_df = pd.merge(train, movies, how='left', on='movieId')"
   ]
  },
  {
   "cell_type": "code",
   "execution_count": 6,
   "id": "8b3119dd",
   "metadata": {
    "execution": {
     "iopub.execute_input": "2023-07-16T23:34:18.543896Z",
     "iopub.status.busy": "2023-07-16T23:34:18.543473Z",
     "iopub.status.idle": "2023-07-16T23:34:21.490875Z",
     "shell.execute_reply": "2023-07-16T23:34:21.489679Z",
     "shell.execute_reply.started": "2023-07-16T23:34:18.543860Z"
    }
   },
   "outputs": [],
   "source": [
    "\n",
    "# Perform a further merge with imdb_data on movieId column\n",
    "movies_metadata_df = pd.merge(train_movies_df, imdb_data, how='left', on='movieId')"
   ]
  },
  {
   "cell_type": "code",
   "execution_count": 7,
   "id": "43c4fdd3",
   "metadata": {
    "execution": {
     "iopub.execute_input": "2023-07-16T23:34:31.945176Z",
     "iopub.status.busy": "2023-07-16T23:34:31.944763Z",
     "iopub.status.idle": "2023-07-16T23:35:58.029258Z",
     "shell.execute_reply": "2023-07-16T23:35:58.027894Z",
     "shell.execute_reply.started": "2023-07-16T23:34:31.945145Z"
    }
   },
   "outputs": [
    {
     "data": {
      "text/html": [
       "<div>\n",
       "<style scoped>\n",
       "    .dataframe tbody tr th:only-of-type {\n",
       "        vertical-align: middle;\n",
       "    }\n",
       "\n",
       "    .dataframe tbody tr th {\n",
       "        vertical-align: top;\n",
       "    }\n",
       "\n",
       "    .dataframe thead th {\n",
       "        text-align: right;\n",
       "    }\n",
       "</style>\n",
       "<table border=\"1\" class=\"dataframe\">\n",
       "  <thead>\n",
       "    <tr style=\"text-align: right;\">\n",
       "      <th></th>\n",
       "      <th>userId</th>\n",
       "      <th>movieId</th>\n",
       "      <th>rating</th>\n",
       "      <th>timestamp</th>\n",
       "      <th>title</th>\n",
       "      <th>genres</th>\n",
       "      <th>title_cast</th>\n",
       "      <th>director</th>\n",
       "      <th>runtime</th>\n",
       "      <th>budget</th>\n",
       "      <th>plot_keywords</th>\n",
       "    </tr>\n",
       "  </thead>\n",
       "  <tbody>\n",
       "    <tr>\n",
       "      <th>0</th>\n",
       "      <td>5163</td>\n",
       "      <td>57669</td>\n",
       "      <td>4.0</td>\n",
       "      <td>1518349992</td>\n",
       "      <td>In Bruges (2008)</td>\n",
       "      <td>[Comedy, Crime, Drama, Thriller]</td>\n",
       "      <td>[Elizabeth Berrington, Rudy Blomme, Olivier Bo...</td>\n",
       "      <td>Martin McDonagh</td>\n",
       "      <td>107.0</td>\n",
       "      <td>$15,000,000</td>\n",
       "      <td>[dwarf, bruges, irish, hitman]</td>\n",
       "    </tr>\n",
       "    <tr>\n",
       "      <th>1</th>\n",
       "      <td>106343</td>\n",
       "      <td>5</td>\n",
       "      <td>4.5</td>\n",
       "      <td>1206238739</td>\n",
       "      <td>Father of the Bride Part II (1995)</td>\n",
       "      <td>[Comedy]</td>\n",
       "      <td>[Steve Martin, Diane Keaton, Martin Short, Kim...</td>\n",
       "      <td>Albert Hackett</td>\n",
       "      <td>106.0</td>\n",
       "      <td>$30,000,000</td>\n",
       "      <td>[fatherhood, doberman, dog, mansion]</td>\n",
       "    </tr>\n",
       "    <tr>\n",
       "      <th>2</th>\n",
       "      <td>146790</td>\n",
       "      <td>5459</td>\n",
       "      <td>5.0</td>\n",
       "      <td>1076215539</td>\n",
       "      <td>Men in Black II (a.k.a. MIIB) (a.k.a. MIB 2) (...</td>\n",
       "      <td>[Action, Comedy, Sci-Fi]</td>\n",
       "      <td>[Tommy Lee Jones, Will Smith, Rip Torn, Lara F...</td>\n",
       "      <td>Lowell Cunningham</td>\n",
       "      <td>88.0</td>\n",
       "      <td>$140,000,000</td>\n",
       "      <td>[lingerie, michael jackson character, shorthai...</td>\n",
       "    </tr>\n",
       "    <tr>\n",
       "      <th>3</th>\n",
       "      <td>106362</td>\n",
       "      <td>32296</td>\n",
       "      <td>2.0</td>\n",
       "      <td>1423042565</td>\n",
       "      <td>Miss Congeniality 2: Armed and Fabulous (2005)</td>\n",
       "      <td>[Adventure, Comedy, Crime]</td>\n",
       "      <td>[Sandra Bullock, Regina King, Enrique Murciano...</td>\n",
       "      <td>Marc Lawrence</td>\n",
       "      <td>115.0</td>\n",
       "      <td>$45,000,000</td>\n",
       "      <td>[female protagonist, cleave gag, good woman, fbi]</td>\n",
       "    </tr>\n",
       "    <tr>\n",
       "      <th>4</th>\n",
       "      <td>9041</td>\n",
       "      <td>366</td>\n",
       "      <td>3.0</td>\n",
       "      <td>833375837</td>\n",
       "      <td>Wes Craven's New Nightmare (Nightmare on Elm S...</td>\n",
       "      <td>[Drama, Horror, Mystery, Thriller]</td>\n",
       "      <td>[Jeff Davis, Heather Langenkamp, Miko Hughes, ...</td>\n",
       "      <td>Wes Craven</td>\n",
       "      <td>112.0</td>\n",
       "      <td>$8,000,000</td>\n",
       "      <td>[freddy krueger, elm street, famous director a...</td>\n",
       "    </tr>\n",
       "  </tbody>\n",
       "</table>\n",
       "</div>"
      ],
      "text/plain": [
       "   userId  movieId  rating   timestamp  \\\n",
       "0    5163    57669     4.0  1518349992   \n",
       "1  106343        5     4.5  1206238739   \n",
       "2  146790     5459     5.0  1076215539   \n",
       "3  106362    32296     2.0  1423042565   \n",
       "4    9041      366     3.0   833375837   \n",
       "\n",
       "                                               title  \\\n",
       "0                                   In Bruges (2008)   \n",
       "1                 Father of the Bride Part II (1995)   \n",
       "2  Men in Black II (a.k.a. MIIB) (a.k.a. MIB 2) (...   \n",
       "3     Miss Congeniality 2: Armed and Fabulous (2005)   \n",
       "4  Wes Craven's New Nightmare (Nightmare on Elm S...   \n",
       "\n",
       "                               genres  \\\n",
       "0    [Comedy, Crime, Drama, Thriller]   \n",
       "1                            [Comedy]   \n",
       "2            [Action, Comedy, Sci-Fi]   \n",
       "3          [Adventure, Comedy, Crime]   \n",
       "4  [Drama, Horror, Mystery, Thriller]   \n",
       "\n",
       "                                          title_cast           director  \\\n",
       "0  [Elizabeth Berrington, Rudy Blomme, Olivier Bo...    Martin McDonagh   \n",
       "1  [Steve Martin, Diane Keaton, Martin Short, Kim...     Albert Hackett   \n",
       "2  [Tommy Lee Jones, Will Smith, Rip Torn, Lara F...  Lowell Cunningham   \n",
       "3  [Sandra Bullock, Regina King, Enrique Murciano...      Marc Lawrence   \n",
       "4  [Jeff Davis, Heather Langenkamp, Miko Hughes, ...         Wes Craven   \n",
       "\n",
       "   runtime        budget                                      plot_keywords  \n",
       "0    107.0   $15,000,000                     [dwarf, bruges, irish, hitman]  \n",
       "1    106.0   $30,000,000               [fatherhood, doberman, dog, mansion]  \n",
       "2     88.0  $140,000,000  [lingerie, michael jackson character, shorthai...  \n",
       "3    115.0   $45,000,000  [female protagonist, cleave gag, good woman, fbi]  \n",
       "4    112.0    $8,000,000  [freddy krueger, elm street, famous director a...  "
      ]
     },
     "execution_count": 7,
     "metadata": {},
     "output_type": "execute_result"
    }
   ],
   "source": [
    "movies_metadata_df['title_cast']=movies_metadata_df['title_cast'].str.split('|') #spliting the title cast into a list\n",
    "movies_metadata_df['plot_keywords']=movies_metadata_df['plot_keywords'].str.split('|') #spliting the Key words into a list\n",
    "movies_metadata_df['genres']=movies_metadata_df['genres'].str.split('|') #spliting the subgenres into a list\n",
    "movies_metadata_df.head()"
   ]
  },
  {
   "cell_type": "markdown",
   "id": "7c65df0c",
   "metadata": {},
   "source": [
    "As we progress with our movie recommendation project, understanding the distribution of movie ratings is crucial. In this section, we analyze the ratings provided by users for the movies in our dataset. The output below displays the count of ratings received by each movie, ranging from 0.5 to 5.0. The values are shown in descending order, indicating the most common to the least common ratings."
   ]
  },
  {
   "cell_type": "code",
   "execution_count": 1,
   "id": "76e74a98",
   "metadata": {
    "execution": {
     "iopub.execute_input": "2023-07-16T23:37:34.640753Z",
     "iopub.status.busy": "2023-07-16T23:37:34.640385Z",
     "iopub.status.idle": "2023-07-16T23:37:34.773113Z",
     "shell.execute_reply": "2023-07-16T23:37:34.771997Z",
     "shell.execute_reply.started": "2023-07-16T23:37:34.640729Z"
    }
   },
   "outputs": [
    {
     "ename": "NameError",
     "evalue": "name 'movies_metadata_df' is not defined",
     "output_type": "error",
     "traceback": [
      "\u001b[1;31m---------------------------------------------------------------------------\u001b[0m",
      "\u001b[1;31mNameError\u001b[0m                                 Traceback (most recent call last)",
      "\u001b[1;32m~\\AppData\\Local\\Temp\\ipykernel_9612\\2660304580.py\u001b[0m in \u001b[0;36m<module>\u001b[1;34m\u001b[0m\n\u001b[1;32m----> 1\u001b[1;33m \u001b[0mrating_counts\u001b[0m \u001b[1;33m=\u001b[0m \u001b[0mmovies_metadata_df\u001b[0m\u001b[1;33m[\u001b[0m\u001b[1;34m'rating'\u001b[0m\u001b[1;33m]\u001b[0m\u001b[1;33m.\u001b[0m\u001b[0mvalue_counts\u001b[0m\u001b[1;33m(\u001b[0m\u001b[1;33m)\u001b[0m\u001b[1;33m\u001b[0m\u001b[1;33m\u001b[0m\u001b[0m\n\u001b[0m\u001b[0;32m      2\u001b[0m \u001b[0mprint\u001b[0m\u001b[1;33m(\u001b[0m\u001b[0mrating_counts\u001b[0m\u001b[1;33m)\u001b[0m\u001b[1;33m\u001b[0m\u001b[1;33m\u001b[0m\u001b[0m\n",
      "\u001b[1;31mNameError\u001b[0m: name 'movies_metadata_df' is not defined"
     ]
    }
   ],
   "source": [
    "rating_counts = movies_metadata_df['rating'].value_counts()\n",
    "print(rating_counts)"
   ]
  },
  {
   "cell_type": "code",
   "execution_count": 9,
   "id": "b7001be8",
   "metadata": {
    "execution": {
     "iopub.execute_input": "2023-07-16T23:37:42.223342Z",
     "iopub.status.busy": "2023-07-16T23:37:42.222972Z",
     "iopub.status.idle": "2023-07-16T23:37:42.526239Z",
     "shell.execute_reply": "2023-07-16T23:37:42.524942Z",
     "shell.execute_reply.started": "2023-07-16T23:37:42.223318Z"
    }
   },
   "outputs": [
    {
     "data": {
      "image/png": "[encoded data removed]",
      "text/plain": [
       "<Figure size 640x480 with 1 Axes>"
      ]
     },
     "metadata": {},
     "output_type": "display_data"
    }
   ],
   "source": [
    "import matplotlib.pyplot as plt\n",
    "\n",
    "plt.bar(rating_counts.index, rating_counts.values)\n",
    "plt.xlabel('Rating')\n",
    "plt.ylabel('Count')\n",
    "plt.title('Distribution of Ratings')\n",
    "plt.show()"
   ]
  },
  {
   "cell_type": "markdown",
   "id": "9b84275f",
   "metadata": {},
   "source": [
    "As we delve deeper into our movie recommendation project, understanding user behavior is essential for building an effective recommender system. In this section, we analyze the number of movies rated by each user in our dataset. By grouping the data based on the userId, we can gain insights into how active users are in providing movie ratings.\n",
    "\n",
    "Here is the count of movies rated by each user:"
   ]
  },
  {
   "cell_type": "code",
   "execution_count": 10,
   "id": "f91ede2f",
   "metadata": {
    "execution": {
     "iopub.execute_input": "2023-07-16T23:37:53.680229Z",
     "iopub.status.busy": "2023-07-16T23:37:53.679867Z",
     "iopub.status.idle": "2023-07-16T23:37:53.947847Z",
     "shell.execute_reply": "2023-07-16T23:37:53.946409Z",
     "shell.execute_reply.started": "2023-07-16T23:37:53.680204Z"
    }
   },
   "outputs": [
    {
     "name": "stdout",
     "output_type": "stream",
     "text": [
      "userId\n",
      "1          28\n",
      "2          72\n",
      "3         251\n",
      "4          89\n",
      "5          35\n",
      "         ... \n",
      "162537     36\n",
      "162538     63\n",
      "162539     18\n",
      "162540     27\n",
      "162541     94\n",
      "Name: movieId, Length: 162541, dtype: int64\n"
     ]
    }
   ],
   "source": [
    "user_groups = movies_metadata_df.groupby('userId')\n",
    "movies_rated_count = user_groups['movieId'].count()\n",
    "print(movies_rated_count)\n",
    "\n"
   ]
  },
  {
   "cell_type": "markdown",
   "id": "db8d9ba2",
   "metadata": {},
   "source": [
    "### Data Preprocessing for Modeling\n",
    "As we advance in our movie recommendation project, it's crucial to preprocess the data to ensure that it's in an appropriate format for modeling and analysis. In this section, we perform the following key data preprocessing steps:\n",
    "\n",
    "Selecting Numeric Features: We start by identifying the numeric features relevant to our modeling process. These features include rating, year, and runtime, which provide valuable information about movie ratings, release years, and runtime durations.\n",
    "\n",
    "Normalization of Numeric Features: To prevent any potential bias in the model, we apply feature scaling to the numeric features using the StandardScaler. This process normalizes the features, ensuring they have a mean of 0 and a standard deviation of 1. Normalization is essential for algorithms that rely on distance metrics, as it ensures all features are on the same scale.\n",
    "\n",
    "Creating a Surprise Dataset: The Surprise library provides powerful tools for building collaborative filtering-based recommendation systems. To leverage these capabilities, we create a Surprise Dataset object using the reader function. We specify the rating scale (ranging from 0.5 to 5.0) to ensure compatibility with our movie rating data.\n",
    "\n",
    "By preprocessing the data and creating the Surprise Dataset, we are now ready to explore and apply collaborative filtering algorithms for building a powerful movie recommender system. Collaborative filtering leverages user-item interactions to predict movie ratings and generate personalized movie suggestions for each user.\n",
    "\n",
    "Let's move on to the modeling phase, where we'll implement and evaluate various collaborative filtering algorithms to develop an accurate and effective movie recommendation engine."
   ]
  },
  {
   "cell_type": "code",
   "execution_count": 26,
   "id": "d858eeac",
   "metadata": {
    "execution": {
     "iopub.execute_input": "2023-07-14T14:28:33.734437Z",
     "iopub.status.busy": "2023-07-14T14:28:33.733608Z",
     "iopub.status.idle": "2023-07-14T14:29:00.512197Z",
     "shell.execute_reply": "2023-07-14T14:29:00.511149Z",
     "shell.execute_reply.started": "2023-07-14T14:28:33.734388Z"
    }
   },
   "outputs": [],
   "source": [
    "# Numeric features\n",
    "numeric_features = ['rating', 'year','runtime']\n",
    "\n",
    "# Normalize numeric features\n",
    "scaler = StandardScaler()\n",
    "movies_metadata_df[numeric_features] = scaler.fit_transform(movies_metadata_df[numeric_features])"
   ]
  },
  {
   "cell_type": "code",
   "execution_count": 12,
   "id": "d10e856d",
   "metadata": {
    "execution": {
     "iopub.execute_input": "2023-07-16T23:42:31.825238Z",
     "iopub.status.busy": "2023-07-16T23:42:31.823795Z",
     "iopub.status.idle": "2023-07-16T23:42:41.724649Z",
     "shell.execute_reply": "2023-07-16T23:42:41.723130Z",
     "shell.execute_reply.started": "2023-07-16T23:42:31.825181Z"
    }
   },
   "outputs": [],
   "source": [
    "# Create a Surprise Dataset object\n",
    "reader = Reader(rating_scale=(0.5, 5.0))  # Specify the rating scale\n",
    "data = Dataset.load_from_df(train[['userId', 'movieId', 'rating']], reader)\n"
   ]
  },
  {
   "cell_type": "code",
   "execution_count": 13,
   "id": "a07103fb",
   "metadata": {
    "execution": {
     "iopub.execute_input": "2023-07-16T23:42:49.680310Z",
     "iopub.status.busy": "2023-07-16T23:42:49.679915Z",
     "iopub.status.idle": "2023-07-16T23:43:53.493953Z",
     "shell.execute_reply": "2023-07-16T23:43:53.492273Z",
     "shell.execute_reply.started": "2023-07-16T23:42:49.680279Z"
    }
   },
   "outputs": [],
   "source": [
    "# TF-IDF vectorization\n",
    "tfidf_vectorizer = TfidfVectorizer()\n",
    "tfidf_matrix = tfidf_vectorizer.fit_transform(movies_metadata_df['plot_keywords'].apply(lambda x: ' '.join(x) if isinstance(x, list) else ''))\n"
   ]
  },
  {
   "cell_type": "markdown",
   "id": "b7eb6836",
   "metadata": {},
   "source": [
    "### Clustering Movies using K-Means\n",
    "In our quest to build an insightful movie reccomender model to make user ratings predictions, we explore the powerful technique of clustering using K-Means. Clustering allows us to group movies based on their similarities in terms of content and themes, helping us identify distinct clusters of movies that share common characteristics.\n",
    "\n",
    "Fitting the Model: We apply the K-Means algorithm to the Term Frequency-Inverse Document Frequency (TF-IDF) matrix, represented by tfidf_matrix. The TF-IDF matrix is a numerical representation of movie plot summaries, highlighting the importance of individual words in each movie's summary. This allows us to cluster movies based on their plot similarities."
   ]
  },
  {
   "cell_type": "code",
   "execution_count": 14,
   "id": "3a744096",
   "metadata": {
    "execution": {
     "iopub.execute_input": "2023-07-16T23:44:13.024391Z",
     "iopub.status.busy": "2023-07-16T23:44:13.023999Z",
     "iopub.status.idle": "2023-07-16T23:47:02.710666Z",
     "shell.execute_reply": "2023-07-16T23:47:02.709693Z",
     "shell.execute_reply.started": "2023-07-16T23:44:13.024361Z"
    }
   },
   "outputs": [
    {
     "data": {
      "text/html": [
       "<style>#sk-container-id-1 {color: black;background-color: white;}#sk-container-id-1 pre{padding: 0;}#sk-container-id-1 div.sk-toggleable {background-color: white;}#sk-container-id-1 label.sk-toggleable__label {cursor: pointer;display: block;width: 100%;margin-bottom: 0;padding: 0.3em;box-sizing: border-box;text-align: center;}#sk-container-id-1 label.sk-toggleable__label-arrow:before {content: \"▸\";float: left;margin-right: 0.25em;color: #696969;}#sk-container-id-1 label.sk-toggleable__label-arrow:hover:before {color: black;}#sk-container-id-1 div.sk-estimator:hover label.sk-toggleable__label-arrow:before {color: black;}#sk-container-id-1 div.sk-toggleable__content {max-height: 0;max-width: 0;overflow: hidden;text-align: left;background-color: #f0f8ff;}#sk-container-id-1 div.sk-toggleable__content pre {margin: 0.2em;color: black;border-radius: 0.25em;background-color: #f0f8ff;}#sk-container-id-1 input.sk-toggleable__control:checked~div.sk-toggleable__content {max-height: 200px;max-width: 100%;overflow: auto;}#sk-container-id-1 input.sk-toggleable__control:checked~label.sk-toggleable__label-arrow:before {content: \"▾\";}#sk-container-id-1 div.sk-estimator input.sk-toggleable__control:checked~label.sk-toggleable__label {background-color: #d4ebff;}#sk-container-id-1 div.sk-label input.sk-toggleable__control:checked~label.sk-toggleable__label {background-color: #d4ebff;}#sk-container-id-1 input.sk-hidden--visually {border: 0;clip: rect(1px 1px 1px 1px);clip: rect(1px, 1px, 1px, 1px);height: 1px;margin: -1px;overflow: hidden;padding: 0;position: absolute;width: 1px;}#sk-container-id-1 div.sk-estimator {font-family: monospace;background-color: #f0f8ff;border: 1px dotted black;border-radius: 0.25em;box-sizing: border-box;margin-bottom: 0.5em;}#sk-container-id-1 div.sk-estimator:hover {background-color: #d4ebff;}#sk-container-id-1 div.sk-parallel-item::after {content: \"\";width: 100%;border-bottom: 1px solid gray;flex-grow: 1;}#sk-container-id-1 div.sk-label:hover label.sk-toggleable__label {background-color: #d4ebff;}#sk-container-id-1 div.sk-serial::before {content: \"\";position: absolute;border-left: 1px solid gray;box-sizing: border-box;top: 0;bottom: 0;left: 50%;z-index: 0;}#sk-container-id-1 div.sk-serial {display: flex;flex-direction: column;align-items: center;background-color: white;padding-right: 0.2em;padding-left: 0.2em;position: relative;}#sk-container-id-1 div.sk-item {position: relative;z-index: 1;}#sk-container-id-1 div.sk-parallel {display: flex;align-items: stretch;justify-content: center;background-color: white;position: relative;}#sk-container-id-1 div.sk-item::before, #sk-container-id-1 div.sk-parallel-item::before {content: \"\";position: absolute;border-left: 1px solid gray;box-sizing: border-box;top: 0;bottom: 0;left: 50%;z-index: -1;}#sk-container-id-1 div.sk-parallel-item {display: flex;flex-direction: column;z-index: 1;position: relative;background-color: white;}#sk-container-id-1 div.sk-parallel-item:first-child::after {align-self: flex-end;width: 50%;}#sk-container-id-1 div.sk-parallel-item:last-child::after {align-self: flex-start;width: 50%;}#sk-container-id-1 div.sk-parallel-item:only-child::after {width: 0;}#sk-container-id-1 div.sk-dashed-wrapped {border: 1px dashed gray;margin: 0 0.4em 0.5em 0.4em;box-sizing: border-box;padding-bottom: 0.4em;background-color: white;}#sk-container-id-1 div.sk-label label {font-family: monospace;font-weight: bold;display: inline-block;line-height: 1.2em;}#sk-container-id-1 div.sk-label-container {text-align: center;}#sk-container-id-1 div.sk-container {/* jupyter's `normalize.less` sets `[hidden] { display: none; }` but bootstrap.min.css set `[hidden] { display: none !important; }` so we also need the `!important` here to be able to override the default hidden behavior on the sphinx rendered scikit-learn.org. See: https://github.com/scikit-learn/scikit-learn/issues/21755 */display: inline-block !important;position: relative;}#sk-container-id-1 div.sk-text-repr-fallback {display: none;}</style><div id=\"sk-container-id-1\" class=\"sk-top-container\"><div class=\"sk-text-repr-fallback\"><pre>KMeans(n_clusters=10, random_state=42)</pre><b>In a Jupyter environment, please rerun this cell to show the HTML representation or trust the notebook. <br />On GitHub, the HTML representation is unable to render, please try loading this page with nbviewer.org.</b></div><div class=\"sk-container\" hidden><div class=\"sk-item\"><div class=\"sk-estimator sk-toggleable\"><input class=\"sk-toggleable__control sk-hidden--visually\" id=\"sk-estimator-id-1\" type=\"checkbox\" checked><label for=\"sk-estimator-id-1\" class=\"sk-toggleable__label sk-toggleable__label-arrow\">KMeans</label><div class=\"sk-toggleable__content\"><pre>KMeans(n_clusters=10, random_state=42)</pre></div></div></div></div></div>"
      ],
      "text/plain": [
       "KMeans(n_clusters=10, random_state=42)"
      ]
     },
     "execution_count": 14,
     "metadata": {},
     "output_type": "execute_result"
    }
   ],
   "source": [
    "# Clustering using k-means\n",
    "num_clusters = 10\n",
    "kmeans = KMeans(n_clusters=num_clusters, random_state=42)\n",
    "kmeans.fit(tfidf_matrix)"
   ]
  },
  {
   "cell_type": "markdown",
   "id": "5d271ca3",
   "metadata": {},
   "source": [
    "By executing the K-Means algorithm and fitting our data to it, we create clusters of movies that share similar themes and content. Clustering opens up exciting possibilities for exploring movie groupings, analyzing trends, and uncovering patterns in our dataset."
   ]
  },
  {
   "cell_type": "code",
   "execution_count": 16,
   "id": "18426c9e",
   "metadata": {
    "execution": {
     "iopub.execute_input": "2023-07-16T23:47:34.840370Z",
     "iopub.status.busy": "2023-07-16T23:47:34.840018Z",
     "iopub.status.idle": "2023-07-16T23:47:34.852605Z",
     "shell.execute_reply": "2023-07-16T23:47:34.851080Z",
     "shell.execute_reply.started": "2023-07-16T23:47:34.840342Z"
    }
   },
   "outputs": [],
   "source": [
    "# Assigning cluster labels to movies\n",
    "movies_metadata_df['cluster_label'] = kmeans.labels_"
   ]
  },
  {
   "cell_type": "markdown",
   "id": "9a271392",
   "metadata": {},
   "source": [
    "### Collaborative Filtering using Singular Value Decomposition (SVD)\n",
    "In our continuous pursuit of building a powerful movie recommender system, we explore the world of collaborative filtering. Collaborative filtering is a popular approach that leverages user-item interactions to generate personalized movie recommendations. One of the prominent collaborative filtering techniques is Singular Value Decomposition (SVD).\n",
    "\n",
    "Data Preparation: We load the movie rating data into a Surprise Dataset object using the Reader function. The rating scale is specified as ranging from 0.5 to 5. This data is essential for building the collaborative filtering model.\n",
    "\n",
    "Here's how we apply SVD for collaborative filtering:\n",
    "\n",
    "Train-Test Split: To evaluate the performance of our recommendation system, we divide the data into training and testing sets. In this case, we create the trainset, which includes all the available user-movie interactions for training the SVD model.\n",
    "\n",
    "Singular Value Decomposition: SVD is a matrix factorization technique that decomposes the user-item interaction matrix into three matrices: U, Σ, and V^T. This factorization helps to identify latent features that represent user preferences and movie characteristics. The SVD algorithm then uses these latent features to predict missing or unobserved ratings.\n",
    "\n",
    "Model Training: We fit the SVD model to the trainset, allowing it to learn the latent features from the user-movie interactions. This process enables the model to make accurate predictions about how users would rate movies they haven't seen"
   ]
  },
  {
   "cell_type": "code",
   "execution_count": 17,
   "id": "66f18d15",
   "metadata": {
    "execution": {
     "iopub.execute_input": "2023-07-16T23:47:55.080561Z",
     "iopub.status.busy": "2023-07-16T23:47:55.080158Z",
     "iopub.status.idle": "2023-07-16T23:51:45.863790Z",
     "shell.execute_reply": "2023-07-16T23:51:45.862764Z",
     "shell.execute_reply.started": "2023-07-16T23:47:55.080519Z"
    }
   },
   "outputs": [
    {
     "data": {
      "text/plain": [
       "<surprise.prediction_algorithms.matrix_factorization.SVD at 0x7f5bbbacd840>"
      ]
     },
     "execution_count": 17,
     "metadata": {},
     "output_type": "execute_result"
    }
   ],
   "source": [
    "# Collaborative Filtering - SVD\n",
    "reader = Reader(rating_scale=(0.5, 5))\n",
    "data = Dataset.load_from_df(train[['userId', 'movieId', 'rating']], reader)\n",
    "trainset = data.build_full_trainset()\n",
    "model = SVD()\n",
    "model.fit(trainset)"
   ]
  },
  {
   "cell_type": "markdown",
   "id": "cdfc3ff5",
   "metadata": {},
   "source": [
    "By applying the SVD algorithm, we create a collaborative filtering model that can predict personalized movie ratings for individual users. This enables us to generate movie recommendations tailored to each user's unique preferences and interests.\n",
    "Next we will save our trained svd model into a pickle file as this is good practice!"
   ]
  },
  {
   "cell_type": "code",
   "execution_count": null,
   "id": "0596d45f",
   "metadata": {},
   "outputs": [],
   "source": [
    "with open(file_name, 'wb') as file:\n",
    "    # Dump the SVD model into the pickle file\n",
    "    pickle.dump(svd_model, file)"
   ]
  },
  {
   "cell_type": "markdown",
   "id": "2b73c29b",
   "metadata": {},
   "source": [
    "### Generating Predicted Movie Ratings\n",
    "As we progress with our collaborative filtering using SVD, the next step involves generating predicted movie ratings for the test dataset. This process allows us to evaluate the performance of our recommendation system and assess how accurately it predicts user ratings for movies they haven't seen.\n",
    "\n",
    "Here are the key steps involved in generating the predicted movie ratings:\n",
    "\n",
    "Testset Preparation: We create the testset in the required format, which consists of tuples containing (userId, movieId, rating). For this evaluation, we set the rating to 0.0 for all movies in the test dataset, as the actual ratings are unknown for these movies.\n",
    "\n",
    "Prediction with SVD: Using the trained SVD model, we predict ratings for the movies in the testset. The model leverages the learned latent features from the training data to estimate how users would rate movies they haven't seen.\n",
    "\n",
    "Extracting Predicted Ratings: After making the predictions, we extract the predicted ratings from the predicted_ratings list, representing the estimated ratings for the movies in the test dataset.\n",
    "\n",
    "By generating and analyzing the predicted movie ratings, we gain valuable insights into the performance of our collaborative filtering recommendation system. We can then assess the accuracy of the predictions and fine-tune our model to optimize the movie recommendations for users.\n",
    "\n"
   ]
  },
  {
   "cell_type": "code",
   "execution_count": 19,
   "id": "1af9584d",
   "metadata": {
    "execution": {
     "iopub.execute_input": "2023-07-16T23:53:07.520372Z",
     "iopub.status.busy": "2023-07-16T23:53:07.519304Z",
     "iopub.status.idle": "2023-07-16T23:53:09.286955Z",
     "shell.execute_reply": "2023-07-16T23:53:09.285720Z",
     "shell.execute_reply.started": "2023-07-16T23:53:07.520332Z"
    }
   },
   "outputs": [],
   "source": [
    "# Create the testset in the required format\n",
    "testset = list(zip(test['userId'], test['movieId'], [0.0] * len(test)))"
   ]
  },
  {
   "cell_type": "code",
   "execution_count": 20,
   "id": "1d5ddbc2",
   "metadata": {
    "execution": {
     "iopub.execute_input": "2023-07-16T23:54:19.663911Z",
     "iopub.status.busy": "2023-07-16T23:54:19.663520Z",
     "iopub.status.idle": "2023-07-16T23:55:02.575639Z",
     "shell.execute_reply": "2023-07-16T23:55:02.574489Z",
     "shell.execute_reply.started": "2023-07-16T23:54:19.663880Z"
    }
   },
   "outputs": [],
   "source": [
    "# Predict ratings for the test dataset\n",
    "predicted_ratings = model.test(testset)\n",
    "\n",
    "# Extract the predicted ratings\n",
    "predicted_ratings = [pred.est for pred in predicted_ratings]"
   ]
  },
  {
   "cell_type": "markdown",
   "id": "a154d8f2",
   "metadata": {},
   "source": [
    "Let's proceed with evaluating the model's performance and exploring methods to enhance the accuracy and effectiveness of our movie recommender system."
   ]
  },
  {
   "cell_type": "code",
   "execution_count": 22,
   "id": "7114ef1e",
   "metadata": {
    "execution": {
     "iopub.execute_input": "2023-07-17T00:00:13.512168Z",
     "iopub.status.busy": "2023-07-17T00:00:13.511787Z",
     "iopub.status.idle": "2023-07-17T00:00:13.793574Z",
     "shell.execute_reply": "2023-07-17T00:00:13.792265Z",
     "shell.execute_reply.started": "2023-07-17T00:00:13.512140Z"
    }
   },
   "outputs": [
    {
     "name": "stdout",
     "output_type": "stream",
     "text": [
      "RMSE: 2.637885873259705\n"
     ]
    }
   ],
   "source": [
    "# Evaluate the model\n",
    "true_ratings = sample_submission['rating']\n",
    "rmse = sqrt(mean_squared_error(true_ratings, predicted_ratings))\n",
    "print(\"RMSE:\", rmse)"
   ]
  },
  {
   "cell_type": "markdown",
   "id": "9015941f",
   "metadata": {},
   "source": [
    "### Generating Submission File\n",
    "In this final step of our movie recommendation project, we generate a submission file that contains the predicted movie ratings for the test dataset. The submission file is in the required format for evaluation and allows us to submit our predictions to the relevant platform or competition.\n",
    "\n",
    "Here's the process for generating the submission file:\n",
    "\n",
    "Preparing the DataFrame: We start by creating a copy of the test dataset named submission_df. This DataFrame will hold the required information for submission, including the user IDs, movie IDs, and predicted ratings.\n",
    "\n",
    "Formatting the IDs: To ensure the submission file follows the prescribed format, we concatenate the userId and movieId columns to create a unique identifier for each entry in the Id column. This identifier helps associate each prediction with the corresponding user and movie.\n",
    "\n",
    "Adding Predicted Ratings: We include the predicted ratings, which we previously generated using the collaborative filtering SVD model, in the rating column of submission_df.\n",
    "\n",
    "Finalizing the DataFrame: We rearrange the columns to match the required submission format, with Id and rating being the only columns present in the final DataFrame.\n",
    "\n",
    "Saving as CSV: Lastly, we save the submission_df DataFrame as a CSV file named submission.csv, ready for submission.\n",
    "\n",
    "With the submission file generated, we can now evaluate the performance of our movie recommender system and share our predictions with the relevant platform or competition.\n",
    "\n"
   ]
  },
  {
   "cell_type": "code",
   "execution_count": 21,
   "id": "8c9dd4fb",
   "metadata": {
    "execution": {
     "iopub.execute_input": "2023-07-16T23:59:31.784394Z",
     "iopub.status.busy": "2023-07-16T23:59:31.783820Z",
     "iopub.status.idle": "2023-07-16T23:59:44.978907Z",
     "shell.execute_reply": "2023-07-16T23:59:44.977485Z",
     "shell.execute_reply.started": "2023-07-16T23:59:31.784341Z"
    }
   },
   "outputs": [],
   "source": [
    "# Generate submission file\n",
    "submission_df = test.copy()\n",
    "submission_df['Id'] = submission_df['userId'].astype(str) + '_' + submission_df['movieId'].astype(str)\n",
    "submission_df['rating'] = predicted_ratings\n",
    "submission_df = submission_df[['Id', 'rating']]\n",
    "submission_df.to_csv('submission.csv', index=False)"
   ]
  },
  {
   "cell_type": "markdown",
   "id": "2b00d430",
   "metadata": {},
   "source": [
    "# Credits\n",
    "Throughout the journey of building our movie recommender system, we have been inspired and guided by various articles, tutorials, and resources from the data science community. We gratefully acknowledge the following sources for their valuable insights, knowledge, and contributions:\n",
    "\n",
    "[Recommendation System: User-Based Collaborative Filtering](https://medium.com/grabngoinfo/recommendation-system-user-based-collaborative-filtering-a2e76e3e15c4)\n",
    " - A comprehensive guide on user-based collaborative filtering for recommendation systems.\n",
    "\n",
    "[Predict Movie Ratings with User-Based Collaborative Filtering](https://towardsdatascience.com/predict-movie-ratings-with-user-based-collaborative-filtering-392304b988af)\n",
    " - An in-depth tutorial on implementing user-based collaborative filtering for predicting movie ratings.\n",
    "\n",
    "[4 Strategies: How to Deal with Large Datasets in Pandas](https://www.vantage-ai.com/en/blog/4-strategies-how-to-deal-with-large-datasets-in-pandas)\n",
    " - A helpful resource for optimizing memory management when working with large datasets in pandas.\n",
    " \n",
    "[Memory Management when Training a Deep Learning Model in Python](https://towardsdatascience.com/efficient-memory-management-when-training-a-deep-learning-model-in-python-fde9065782b7)\n",
    " - A guide on efficient memory management techniques during deep learning model training in Python.\n",
    "\n",
    "[ Machine Learning Tutorial - Steps in Machine Learning ](https://www.simplilearn.com/tutorials/machine-learning-tutorial/machine-learning-steps)\n",
    " - A step-by-step guide to the machine learning process, providing a comprehensive overview of different stages involved in building machine learning models.\n",
    "\n",
    "[YouTube - Various Tutorials and Explanations](https://www.youtube.com/watch?v=i4Jh8n0tY7E)\n",
    " - Video resources that have been instrumental in enhancing our understanding of collaborative filtering and recommendation systems.\n",
    "\n",
    "[Medium - Various Posts](https://medium.com/plans?subscribeToUserId=&susiEntry=post_paywall&source=upgrade_membership---post_limit--c5e8283cd2dc--------------------------------)\n",
    " - Informative articles and blog posts on diverse topics related to machine learning and data science.\n",
    "\n",
    "We extend our warm gratitude to the authors, content creators, and the data science community at large for sharing their knowledge and expertise, which has significantly contributed to the successful development of our movie recommender system.\n",
    "\n"
   ]
  },
  {
   "cell_type": "code",
   "execution_count": null,
   "id": "0becd4c3",
   "metadata": {},
   "outputs": [],
   "source": []
  }
 ],
 "metadata": {
  "kernelspec": {
   "display_name": "Python 3 (ipykernel)",
   "language": "python",
   "name": "python3"
  },
  "language_info": {
   "codemirror_mode": {
    "name": "ipython",
    "version": 3
   },
   "file_extension": ".py",
   "mimetype": "text/x-python",
   "name": "python",
   "nbconvert_exporter": "python",
   "pygments_lexer": "ipython3",
   "version": "3.9.13"
  }
 },
 "nbformat": 4,
 "nbformat_minor": 5
}
